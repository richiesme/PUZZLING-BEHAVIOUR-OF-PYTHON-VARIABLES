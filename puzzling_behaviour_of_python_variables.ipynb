{
 "cells": [
  {
   "cell_type": "markdown",
   "metadata": {},
   "source": [
    "# PROJECT: PUZZLING BEHAVIOUR OF PYTHON VARIABLES"
   ]
  },
  {
   "cell_type": "markdown",
   "metadata": {},
   "source": [
    "## Observing the mutability/ Immutability of python variables"
   ]
  },
  {
   "cell_type": "markdown",
   "metadata": {},
   "source": [
    "### Objective \n",
    "#### - By the end of this, you would have gained a deep understanding of how variables behave in python\n",
    "#### - Understand why setting two variable to same value may or may not mean deeper connnection"
   ]
  },
  {
   "cell_type": "markdown",
   "metadata": {},
   "source": [
    "### Definitions\n",
    "#### Before we go deep into the experimention of python mutability/immutability, I think it will suffice we have a good understanding of what these terms refers to. The word mutable originated from latin \"mutabilis\" meaning \"changeable\".\n",
    "#### Hence, this is a fancy way of saying that the internal state of an object can change. While immutable doesn't allow any change in the object once it is created. Both of these states are an integral part of Python data structures. \n",
    "#### _**Mutable: In Python, this refers to the ability for an object to change it's value and these are often objects that can store a collection of data.**_ \n",
    "#### _**Immutable: When the value of an object can not change over time, in Python we say such object is immutable.**_\n",
    "#### Now, let's do some experimentation to check what object type is mutable or immutable "
   ]
  },
  {
   "cell_type": "markdown",
   "metadata": {},
   "source": [
    "### 1. Checking with int"
   ]
  },
  {
   "cell_type": "code",
   "execution_count": 64,
   "metadata": {},
   "outputs": [
    {
     "name": "stdout",
     "output_type": "stream",
     "text": [
      "x: 2\n",
      "y: 3\n"
     ]
    }
   ],
   "source": [
    "# Assign a int object value to variable x\n",
    "x = 2\n",
    "\n",
    "# Let us now assign variable x to another variable y\n",
    "y = x\n",
    "\n",
    "# changing the variable y value\n",
    "y = 3\n",
    "\n",
    "# let's print to see the output\n",
    "print(f\"x: {x}\\ny: {y}\")"
   ]
  },
  {
   "cell_type": "markdown",
   "metadata": {},
   "source": [
    "#### For int variable object, it is observed that when you set an initial variable to a value and assign that initially set variable to a second variable, then change the value of either of the variables, it is observed that the change does not take effect in the other variable even while they are assigned to each other."
   ]
  },
  {
   "cell_type": "markdown",
   "metadata": {},
   "source": [
    "### 2. Checking for floats"
   ]
  },
  {
   "cell_type": "code",
   "execution_count": 65,
   "metadata": {},
   "outputs": [
    {
     "name": "stdout",
     "output_type": "stream",
     "text": [
      "x: 1.03\n",
      "y: 3.134\n"
     ]
    }
   ],
   "source": [
    "x = 1.03\n",
    "y = x \n",
    "\n",
    "# Changing the variable y value\n",
    "y = 3.134\n",
    "\n",
    "# Printing the output\n",
    "print(f\"x: {x}\\ny: {y}\")"
   ]
  },
  {
   "cell_type": "markdown",
   "metadata": {},
   "source": [
    "#### Also, for float variable object, we can see that changing or assigning another value to the variable y does not affect the variable x. "
   ]
  },
  {
   "cell_type": "markdown",
   "metadata": {},
   "source": [
    "### 3. Checking for strings"
   ]
  },
  {
   "cell_type": "code",
   "execution_count": 66,
   "metadata": {},
   "outputs": [
    {
     "name": "stdout",
     "output_type": "stream",
     "text": [
      "x: apple\n",
      "y: cat\n"
     ]
    }
   ],
   "source": [
    "x = \"apple\"\n",
    "y = x\n",
    "\n",
    "# Assigning the varibale y a different value\n",
    "y = \"cat\"\n",
    "\n",
    "# Printing the output\n",
    "print(f\"x: {x}\\ny: {y}\")"
   ]
  },
  {
   "cell_type": "markdown",
   "metadata": {},
   "source": [
    "#### Just like in int and float, same behaviour applies. And by design strings are immutable in python unlike C language"
   ]
  },
  {
   "cell_type": "markdown",
   "metadata": {},
   "source": [
    "### 4. Checking for tuples"
   ]
  },
  {
   "cell_type": "code",
   "execution_count": 67,
   "metadata": {},
   "outputs": [
    {
     "ename": "TypeError",
     "evalue": "'tuple' object does not support item assignment",
     "output_type": "error",
     "traceback": [
      "\u001b[1;31m---------------------------------------------------------------------------\u001b[0m",
      "\u001b[1;31mTypeError\u001b[0m                                 Traceback (most recent call last)",
      "\u001b[1;32m<ipython-input-67-69c5d53952ea>\u001b[0m in \u001b[0;36m<module>\u001b[1;34m\u001b[0m\n\u001b[0;32m      5\u001b[0m \u001b[1;33m\u001b[0m\u001b[0m\n\u001b[0;32m      6\u001b[0m \u001b[1;31m# Attempting to change an element in the variable x value\u001b[0m\u001b[1;33m\u001b[0m\u001b[1;33m\u001b[0m\u001b[1;33m\u001b[0m\u001b[0m\n\u001b[1;32m----> 7\u001b[1;33m \u001b[0mx\u001b[0m\u001b[1;33m[\u001b[0m\u001b[1;36m1\u001b[0m\u001b[1;33m]\u001b[0m \u001b[1;33m=\u001b[0m \u001b[1;34m\"dog\"\u001b[0m\u001b[1;33m\u001b[0m\u001b[1;33m\u001b[0m\u001b[0m\n\u001b[0m\u001b[0;32m      8\u001b[0m \u001b[1;33m\u001b[0m\u001b[0m\n\u001b[0;32m      9\u001b[0m \u001b[1;31m# Printing the output\u001b[0m\u001b[1;33m\u001b[0m\u001b[1;33m\u001b[0m\u001b[1;33m\u001b[0m\u001b[0m\n",
      "\u001b[1;31mTypeError\u001b[0m: 'tuple' object does not support item assignment"
     ]
    }
   ],
   "source": [
    "x = (1, \"cat\", \"apple\", 2.107, 7)\n",
    "\n",
    "# Assigning x to y\n",
    "y = x \n",
    "\n",
    "# Attempting to change an element in the variable x value\n",
    "x[1] = \"dog\"\n",
    "\n",
    "# Printing the output\n",
    "print(f\"x: {x}\\n y: {y}\")\n"
   ]
  },
  {
   "cell_type": "markdown",
   "metadata": {},
   "source": [
    "#### We can see that an attempt to change an element in the variable x raised a TypeError. And this is because tuples in python does not allow changing elements. However, we can assign another object to the variable y as seen below"
   ]
  },
  {
   "cell_type": "code",
   "execution_count": 68,
   "metadata": {},
   "outputs": [
    {
     "name": "stdout",
     "output_type": "stream",
     "text": [
      "x: (1, 'cat', 'apple', 2.107, 7)\n",
      "y: (1, 'dog', 'orange', 5.8, 9)\n"
     ]
    }
   ],
   "source": [
    "x = (1, \"cat\", \"apple\", 2.107, 7)\n",
    "# Let us now assign variable x to a second variable y\n",
    "y = x \n",
    "\n",
    "# Asigning the variable y a different value\n",
    "y = (1, \"dog\", \"orange\", 5.8, 9)\n",
    "\n",
    "# Printing the output\n",
    "print(f\"x: {x}\\ny: {y}\")"
   ]
  },
  {
   "cell_type": "markdown",
   "metadata": {},
   "source": [
    "#### As experimented above we can see that, assigning another tuple object to variable y does not affect variable x"
   ]
  },
  {
   "cell_type": "markdown",
   "metadata": {},
   "source": [
    "### Conclusion for Immutable types: \n",
    "#### For objects such as int, floats, strings or tuples in python: \n",
    "   - **Assigning a new object value to either of the variable does not affect the other**\n",
    "   - **This concludes that int, floats, strings or tuples objects in python are immutable**"
   ]
  },
  {
   "cell_type": "markdown",
   "metadata": {},
   "source": [
    "### 5. Checking for lists "
   ]
  },
  {
   "cell_type": "code",
   "execution_count": 69,
   "metadata": {},
   "outputs": [
    {
     "name": "stdout",
     "output_type": "stream",
     "text": [
      "x: [1, 2, 'girl', 'boy']\n",
      "y: [1, 2, 'girl', 'boy']\n"
     ]
    }
   ],
   "source": [
    "# Let us assign a value to a variable x in python\n",
    "# Note that unlike arrays, python list allows for list objects to\n",
    "# contain different object/data types\n",
    "x = [1, 2, 3, \"boy\"]\n",
    "\n",
    "# Now assign x to a second variable y \n",
    "y = x\n",
    "\n",
    "# Let's now try to change an element in the variable list x using\n",
    "# the location index which is zero indexed that is starting from\n",
    "# zero\n",
    "x[2] = \"girl\"\n",
    "\n",
    "# Printing the output we have\n",
    "print(f\"x: {x}\\ny: {y}\")"
   ]
  },
  {
   "cell_type": "markdown",
   "metadata": {},
   "source": [
    "#### Unlike int, strings, float and tuples, you see that the changes made to the third element in the variable list x was reflected in the variable y, therefore we can say that list objects in python are mutable that is you can change it's value, this is the weird behaviour in python and it is important we understand this. .\n",
    "#### Also, as shown below, we can also assign a different list to y and the changes doesn't reflect in x."
   ]
  },
  {
   "cell_type": "code",
   "execution_count": 70,
   "metadata": {},
   "outputs": [
    {
     "name": "stdout",
     "output_type": "stream",
     "text": [
      "x: [1, 2, 3, 'boy']\n",
      "y: [4, 5, 6, 'girl']\n"
     ]
    }
   ],
   "source": [
    "x = [1, 2, 3, \"boy\"]\n",
    "\n",
    "y = x\n",
    "\n",
    "# Now, assigning a different list to y to check \n",
    "y = [4, 5, 6, \"girl\"]\n",
    "\n",
    "#printing the output\n",
    "print(f\"x: {x}\\ny: {y}\")"
   ]
  },
  {
   "cell_type": "markdown",
   "metadata": {},
   "source": [
    "### 6. Checking for dictionaries"
   ]
  },
  {
   "cell_type": "code",
   "execution_count": 71,
   "metadata": {},
   "outputs": [
    {
     "name": "stdout",
     "output_type": "stream",
     "text": [
      "x: {'one': 1, 'two': 2, 'three': 9},\n",
      "y: {'one': 1, 'two': 2, 'three': 9}\n"
     ]
    }
   ],
   "source": [
    "# Let us assign a dictionary object to a variable x\n",
    "# Note dictionaries in python are key, value pairs\n",
    "x = {\"one\": 1, \"two\": 2, \"three\": 3}\n",
    "y = x \n",
    "\n",
    "# Let's now make changes to y\n",
    "y[\"three\"] = 9\n",
    "\n",
    "#printing the output\n",
    "print(f\"x: {x},\\ny: {y}\")"
   ]
  },
  {
   "cell_type": "markdown",
   "metadata": {},
   "source": [
    "#### Can we see that just like lists, changing an element in variable y is reflected in variable x. This therefore also implies that dictionaries in python are mutable. \n",
    "\n",
    "#### However, if we assign a different dictionary to y, it will not be reflected in variable x as seen below;"
   ]
  },
  {
   "cell_type": "code",
   "execution_count": 72,
   "metadata": {},
   "outputs": [
    {
     "name": "stdout",
     "output_type": "stream",
     "text": [
      "x: {'one': 1, 'two': 2, 'three': 3},\n",
      "y: {'four': 4, 'five': 5, 'six': 6}\n"
     ]
    }
   ],
   "source": [
    "# Assigning a dictionary object to a variable x\n",
    "x = {\"one\": 1, \"two\": 2, \"three\": 3}\n",
    "y = x \n",
    "\n",
    "# Let's now assign a different dictionary to y\n",
    "y = {\"four\": 4, \"five\": 5, \"six\": 6}\n",
    "\n",
    "#printing the output\n",
    "print(f\"x: {x},\\ny: {y}\")"
   ]
  },
  {
   "cell_type": "markdown",
   "metadata": {},
   "source": [
    "### Conclusion for Mutable types: \n",
    "#### For objects such as list and dictionaries in python: \n",
    "   - **Changing the elements in one variable affects the other**\n",
    "   - **While assigning another object to one variable does not affect the other**"
   ]
  },
  {
   "cell_type": "markdown",
   "metadata": {},
   "source": [
    "### In my next section, I will show you why this is so.  "
   ]
  },
  {
   "cell_type": "markdown",
   "metadata": {},
   "source": [
    "### But in the meantime, we would appreciate your feed back.\n",
    "\n",
    "### How useful did you find this resource? What did you find helpful about it? What do you think would have helped instead? Thank you so much"
   ]
  },
  {
   "cell_type": "code",
   "execution_count": null,
   "metadata": {},
   "outputs": [],
   "source": []
  },
  {
   "cell_type": "code",
   "execution_count": null,
   "metadata": {},
   "outputs": [],
   "source": []
  }
 ],
 "metadata": {
  "kernelspec": {
   "display_name": "Python 3",
   "language": "python",
   "name": "python3"
  },
  "language_info": {
   "codemirror_mode": {
    "name": "ipython",
    "version": 3
   },
   "file_extension": ".py",
   "mimetype": "text/x-python",
   "name": "python",
   "nbconvert_exporter": "python",
   "pygments_lexer": "ipython3",
   "version": "3.8.5"
  }
 },
 "nbformat": 4,
 "nbformat_minor": 4
}
